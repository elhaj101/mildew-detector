{
 "cells": [
  {
   "cell_type": "markdown",
   "id": "c189bd9c",
   "metadata": {},
   "source": [
    "# Modeling and Evaluation\n",
    "This notebook contains model training and evaluation. All generated models, logs, and results will be saved in the '../out/modeling/' directory."
   ]
  },
  {
   "cell_type": "code",
   "execution_count": 1,
   "id": "58ca0aa3",
   "metadata": {},
   "outputs": [
    {
     "name": "stdout",
     "output_type": "stream",
     "text": [
      "Current working directory: /workspaces/mildew-detector/jupyter_notebooks\n"
     ]
    }
   ],
   "source": [
    "# Change working directory to the notebook's parent directory\n",
    "import os\n",
    "os.chdir(os.path.dirname(os.path.abspath(\"../jupyter_notebooks/ModelingandEvaluation.ipynb\")))\n",
    "print(f\"Current working directory: {os.getcwd()}\")"
   ]
  },
  {
   "cell_type": "code",
   "execution_count": 2,
   "id": "8e078bdc",
   "metadata": {},
   "outputs": [
    {
     "name": "stdout",
     "output_type": "stream",
     "text": [
      "Modeling output directory: ../out/modeling\n"
     ]
    }
   ],
   "source": [
    "import os\n",
    "# Ensure output directory exists\n",
    "output_dir = '../out/modeling'\n",
    "os.makedirs(output_dir, exist_ok=True)\n",
    "print(f'Modeling output directory: {output_dir}')"
   ]
  },
  {
   "cell_type": "markdown",
   "id": "96e0f0c7",
   "metadata": {},
   "source": [
    "## Load Split Data and Prepare Data Generators\n",
    "Load the split images from the out/split/train, out/split/val, and out/split/test directories and create Keras ImageDataGenerators for training, validation, and testing."
   ]
  },
  {
   "cell_type": "code",
   "execution_count": 4,
   "id": "0c8adfce",
   "metadata": {},
   "outputs": [
    {
     "name": "stdout",
     "output_type": "stream",
     "text": [
      "Train dirs: ('../data/split/healthy/train', '../data/split/powdery_mildew/train')\n",
      "Val dirs: ('../data/split/healthy/val', '../data/split/powdery_mildew/val')\n",
      "Test dirs: ('../data/split/healthy/test', '../data/split/powdery_mildew/test')\n"
     ]
    }
   ],
   "source": [
    "# Set up split data directories\n",
    "split_base = '../data/split'\n",
    "train_dir = os.path.join(split_base, 'healthy/train'), os.path.join(split_base, 'powdery_mildew/train')\n",
    "val_dir = os.path.join(split_base, 'healthy/val'), os.path.join(split_base, 'powdery_mildew/val')\n",
    "test_dir = os.path.join(split_base, 'healthy/test'), os.path.join(split_base, 'powdery_mildew/test')\n",
    "print('Train dirs:', train_dir)\n",
    "print('Val dirs:', val_dir)\n",
    "print('Test dirs:', test_dir)\n",
    "\n",
    "# For Keras generators, we use the parent split_base directory\n"
   ]
  },
  {
   "cell_type": "markdown",
   "metadata": {},
   "source": [
    "### Data Generators for Model Training, Validation, and Testing\n",
    "The following code creates Keras `ImageDataGenerator` objects for the train, validation, and test splits. These generators will efficiently load and preprocess images from the split dataset folders, applying normalization and batching for model training and evaluation."
   ]
  },
  {
   "cell_type": "code",
   "execution_count": 5,
   "id": "8bdc57f6",
   "metadata": {},
   "outputs": [
    {
     "name": "stdout",
     "output_type": "stream",
     "text": [
      "Found 6144 images belonging to 2 classes.\n",
      "Found 6144 images belonging to 2 classes.\n",
      "Found 6144 images belonging to 2 classes.\n"
     ]
    }
   ],
   "source": [
    "from tensorflow.keras.preprocessing.image import ImageDataGenerator\n",
    "\n",
    "img_size = (224, 224)\n",
    "batch_size = 32\n",
    "\n",
    "datagen = ImageDataGenerator(rescale=1./255)\n",
    "\n",
    "train_generator = datagen.flow_from_directory(\n",
    "    directory=split_base,\n",
    "    target_size=img_size,\n",
    "    batch_size=batch_size,\n",
    "    classes=['healthy', 'powdery_mildew'],\n",
    "    class_mode='binary',\n",
    "    subset=None,\n",
    "    shuffle=True,\n",
    "    seed=42,\n",
    "    color_mode='rgb',\n",
    ")\n",
    "\n",
    "val_generator = datagen.flow_from_directory(\n",
    "    directory=split_base,\n",
    "    target_size=img_size,\n",
    "    batch_size=batch_size,\n",
    "    classes=['healthy', 'powdery_mildew'],\n",
    "    class_mode='binary',\n",
    "    subset=None,\n",
    "    shuffle=False,\n",
    "    seed=42,\n",
    "    color_mode='rgb',\n",
    ")\n",
    "\n",
    "test_generator = datagen.flow_from_directory(\n",
    "    directory=split_base,\n",
    "    target_size=img_size,\n",
    "    batch_size=batch_size,\n",
    "    classes=['healthy', 'powdery_mildew'],\n",
    "    class_mode='binary',\n",
    "    subset=None,\n",
    "    shuffle=False,\n",
    "    seed=42,\n",
    "    color_mode='rgb',\n",
    ")\n"
   ]
  },
  {
   "cell_type": "code",
   "execution_count": null,
   "id": "91b29f19",
   "metadata": {},
   "outputs": [],
   "source": []
  }
 ],
 "metadata": {
  "kernelspec": {
   "display_name": "3.12.1",
   "language": "python",
   "name": "python3"
  },
  "language_info": {
   "codemirror_mode": {
    "name": "ipython",
    "version": 3
   },
   "file_extension": ".py",
   "mimetype": "text/x-python",
   "name": "python",
   "nbconvert_exporter": "python",
   "pygments_lexer": "ipython3",
   "version": "3.12.1"
  }
 },
 "nbformat": 4,
 "nbformat_minor": 5
}
