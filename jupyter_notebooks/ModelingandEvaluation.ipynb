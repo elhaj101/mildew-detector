{
 "cells": [
  {
   "cell_type": "markdown",
   "id": "c189bd9c",
   "metadata": {},
   "source": [
    "# Modeling and Evaluation\n",
    "This notebook contains model training and evaluation. All generated models, logs, and results will be saved in the '../out/modeling/' directory."
   ]
  },
  {
   "cell_type": "code",
   "execution_count": null,
   "id": "8e078bdc",
   "metadata": {},
   "outputs": [],
   "source": [
    "import os\n",
    "# Ensure output directory exists\n",
    "output_dir = '../out/modeling'\n",
    "os.makedirs(output_dir, exist_ok=True)\n",
    "print(f'Modeling output directory: {output_dir}')"
   ]
  }
 ],
 "metadata": {
  "language_info": {
   "name": "python"
  }
 },
 "nbformat": 4,
 "nbformat_minor": 5
}
