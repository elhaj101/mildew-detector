{
 "cells": [
  {
   "cell_type": "markdown",
   "id": "26f7ccdf",
   "metadata": {},
   "source": [
    "# Data Collection and Exploration\n",
    "This notebook loads, explores, and splits the cherry leaves dataset for mildew detection."
   ]
  },
  {
   "cell_type": "code",
   "execution_count": null,
   "id": "5b2b58e4",
   "metadata": {},
   "outputs": [],
   "source": [
    "# Change working directory to the notebook's parent directory\n",
    "import os\n",
    "os.chdir(os.path.dirname(os.path.abspath(\"../jupyter_notebooks/DataCollection.ipynb\")))\n",
    "print(f\"Current working directory: {os.getcwd()}\")"
   ]
  },
  {
   "cell_type": "code",
   "execution_count": null,
   "id": "3089850b",
   "metadata": {},
   "outputs": [],
   "source": [
    "# Import required libraries\n",
    "import os\n",
    "import random\n",
    "import shutil\n",
    "from glob import glob\n",
    "import matplotlib.pyplot as plt\n",
    "from PIL import Image\n",
    "import numpy as np\n",
    "from collections import Counter"
   ]
  },
  {
   "cell_type": "markdown",
   "id": "f7cab478",
   "metadata": {},
   "source": [
    "## Define dataset paths\n",
    "Set the paths for healthy and powdery mildew images."
   ]
  },
  {
   "cell_type": "code",
   "execution_count": null,
   "id": "f3271e8d",
   "metadata": {},
   "outputs": [],
   "source": [
    "# Set dataset directories\n",
    "data_dir = '../data/cherry-leaves'\n",
    "healthy_dir = os.path.join(data_dir, 'healthy')\n",
    "mildew_dir = os.path.join(data_dir, 'powdery_mildew')"
   ]
  },
  {
   "cell_type": "markdown",
   "id": "1ce4cdac",
   "metadata": {},
   "source": [
    "## Count images in each class\n",
    "Check the number of images for each class."
   ]
  },
  {
   "cell_type": "code",
   "execution_count": null,
   "id": "60cdb19f",
   "metadata": {},
   "outputs": [],
   "source": [
    "healthy_images = glob(os.path.join(healthy_dir, '*.JPG'))\n",
    "mildew_images = glob(os.path.join(mildew_dir, '*.JPG'))\n",
    "print(f'Healthy images: {len(healthy_images)}')\n",
    "print(f'Powdery mildew images: {len(mildew_images)}')"
   ]
  },
  {
   "cell_type": "markdown",
   "id": "fb88ea2c",
   "metadata": {},
   "source": [
    "## Visualize sample images\n",
    "Display a few random images from each class."
   ]
  },
  {
   "cell_type": "code",
   "execution_count": null,
   "id": "95855f6b",
   "metadata": {},
   "outputs": [],
   "source": [
    "def show_samples(image_list, title, n=5):\n",
    "    plt.figure(figsize=(15,3))\n",
    "    for i, img_path in enumerate(random.sample(image_list, n)):\n",
    "        img = Image.open(img_path)\n",
    "        plt.subplot(1, n, i+1)\n",
    "        plt.imshow(img)\n",
    "        plt.axis('off')\n",
    "        plt.title(title)\n",
    "    plt.show()\n",
    "\n",
    "show_samples(healthy_images, 'Healthy', n=5)\n",
    "show_samples(mildew_images, 'Powdery Mildew', n=5)"
   ]
  },
  {
   "cell_type": "markdown",
   "id": "73f2ae63",
   "metadata": {},
   "source": [
    "## Split dataset into train, validation, and test sets\n",
    "Organize images into train (70%), val (15%), and test (15%) folders."
   ]
  },
  {
   "cell_type": "code",
   "execution_count": null,
   "id": "33c91868",
   "metadata": {},
   "outputs": [],
   "source": [
    "def split_and_copy(images, out_dir, split_fracs=(0.7, 0.15, 0.15)):\n",
    "    random.shuffle(images)\n",
    "    n = len(images)\n",
    "    n_train = int(split_fracs[0] * n)\n",
    "    n_val = int(split_fracs[1] * n)\n",
    "    train, val, test = images[:n_train], images[n_train:n_train+n_val], images[n_train+n_val:]\n",
    "    for split, split_images in zip(['train', 'val', 'test'], [train, val, test]):\n",
    "        split_dir = os.path.join(out_dir, split)\n",
    "        os.makedirs(split_dir, exist_ok=True)\n",
    "        for img_path in split_images:\n",
    "            shutil.copy(img_path, split_dir)\n",
    "    return len(train), len(val), len(test)\n",
    "\n",
    "# Output directories\n",
    "output_base = '../out/split'\n",
    "for label, images in [('healthy', healthy_images), ('powdery_mildew', mildew_images)]:\n",
    "    out_dir = os.path.join(output_base, label)\n",
    "    n_train, n_val, n_test = split_and_copy(images, out_dir)\n",
    "    print(f'{label}: train={n_train}, val={n_val}, test={n_test})"
   ]
  },
  {
   "cell_type": "markdown",
   "id": "a85129d7",
   "metadata": {},
   "source": [
    "## Data Augmentation\n",
    "To increase the diversity of the training data, we will use image augmentation techniques such as rotation, flipping, and zooming."
   ]
  },
  {
   "cell_type": "code",
   "execution_count": null,
   "id": "537807d6",
   "metadata": {},
   "outputs": [],
   "source": [
    "# Data augmentation example using Keras\n",
    "from tensorflow.keras.preprocessing.image import ImageDataGenerator\n",
    "\n",
    "# Define augmentation parameters\n",
    "augmenter = ImageDataGenerator(\n",
    "    rotation_range=30,\n",
    "    width_shift_range=0.1,\n",
    "    height_shift_range=0.1,\n",
    "    shear_range=0.2,\n",
    "    zoom_range=0.2,\n",
    "    horizontal_flip=True,\n",
    "    fill_mode='nearest'\n",
    ")\n",
    "\n",
    "# Pick a sample image from the training set\n",
    "sample_dir = '../out/split/healthy/train'\n",
    "sample_img_path = os.path.join(sample_dir, os.listdir(sample_dir)[0])\n",
    "img = Image.open(sample_img_path)\n",
    "img_array = np.array(img)\n",
    "img_array = img_array.reshape((1,) + img_array.shape)\n",
    "\n",
    "# Generate and plot augmented images\n",
    "plt.figure(figsize=(12,4))\n",
    "for i, batch in enumerate(augmenter.flow(img_array, batch_size=1)):\n",
    "    plt.subplot(1, 5, i+1)\n",
    "    plt.imshow(batch[0].astype('uint8'))\n",
    "    plt.axis('off')\n",
    "    if i == 4:\n",
    "        break\n",
    "plt.suptitle('Augmented Samples')\n",
    "plt.show()"
   ]
  }
 ],
 "metadata": {
  "kernelspec": {
   "display_name": "3.12.1",
   "language": "python",
   "name": "python3"
  },
  "language_info": {
   "codemirror_mode": {
    "name": "ipython",
    "version": 3
   },
   "file_extension": ".py",
   "mimetype": "text/x-python",
   "name": "python",
   "nbconvert_exporter": "python",
   "pygments_lexer": "ipython3",
   "version": "3.12.1"
  }
 },
 "nbformat": 4,
 "nbformat_minor": 5
}
