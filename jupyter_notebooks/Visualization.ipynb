{
 "cells": [
  {
   "cell_type": "markdown",
   "id": "4207e032",
   "metadata": {},
   "source": [
    "# Data Visualization\n",
    "This notebook contains visualizations for the cherry leaves dataset. All generated plots and files will be saved in the '../out/visualization/' directory."
   ]
  },
  {
   "cell_type": "code",
   "execution_count": null,
   "id": "b8980ac7",
   "metadata": {},
   "outputs": [],
   "source": [
    "import os\n",
    "import matplotlib.pyplot as plt\n",
    "import seaborn as sns\n",
    "import numpy as np\n",
    "\n",
    "# Ensure output directory exists\n",
    "output_dir = '../out/visualization'\n",
    "os.makedirs(output_dir, exist_ok=True)\n",
    "print(f'Visualization output directory: {output_dir}')"
   ]
  }
 ],
 "metadata": {
  "language_info": {
   "name": "python"
  }
 },
 "nbformat": 4,
 "nbformat_minor": 5
}
